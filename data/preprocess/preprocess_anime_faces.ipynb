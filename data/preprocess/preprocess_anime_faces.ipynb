{
 "cells": [
  {
   "cell_type": "code",
   "execution_count": 17,
   "id": "3d49c046",
   "metadata": {},
   "outputs": [],
   "source": [
    "from multiprocessing import Pool\n",
    "import time\n",
    "\n",
    "from PIL import Image\n",
    "import os\n",
    "from tqdm import tqdm_notebook"
   ]
  },
  {
   "cell_type": "code",
   "execution_count": 18,
   "id": "635fa836",
   "metadata": {},
   "outputs": [],
   "source": [
    "def noncenter_crop(im, size, shift=(0,0)):\n",
    "    left = int(im.size[0]/2-size/2) + shift[0]\n",
    "    upper = int(im.size[1]/2-size/2) + shift[1]\n",
    "    right = left + size\n",
    "    lower = upper + size\n",
    "    \n",
    "    return im.crop((left, upper,right,lower))"
   ]
  },
  {
   "cell_type": "code",
   "execution_count": 19,
   "id": "0b267f1f",
   "metadata": {},
   "outputs": [],
   "source": [
    "def preprocess_anime_face(path_in_out):\n",
    "    in_path, out_path = path_in_out\n",
    "    im = Image.open(in_path).resize((512,512))\n",
    "    im = noncenter_crop(im, 256, (0, -14))\n",
    "    im.save(out_path)"
   ]
  },
  {
   "cell_type": "code",
   "execution_count": 20,
   "id": "771538e2",
   "metadata": {},
   "outputs": [],
   "source": [
    "path = 'better_anime/safebooru_jpeg'\n",
    "files = os.listdir(path)"
   ]
  },
  {
   "cell_type": "code",
   "execution_count": 21,
   "id": "90f65598",
   "metadata": {},
   "outputs": [],
   "source": [
    "in_paths = [os.path.join(path, file) for file in files]\n",
    "\n",
    "out_path = 'aligned_anime_faces/all/'\n",
    "out_names = [os.path.join(out_path, f'{i}.jpg') for i in range(len(files))]\n",
    "\n",
    "if not os.path.exists(out_path):\n",
    "    os.makedirs(out_path)"
   ]
  },
  {
   "cell_type": "code",
   "execution_count": 22,
   "id": "20ffa8e7",
   "metadata": {},
   "outputs": [
    {
     "name": "stdout",
     "output_type": "stream",
     "text": [
      "188.63478779792786\n"
     ]
    }
   ],
   "source": [
    "start = time.time()\n",
    "with Pool(6) as p:\n",
    "    p.map(preprocess_anime_face, list(zip(in_paths, out_names)))\n",
    "end = time.time()\n",
    "print(end-start)"
   ]
  },
  {
   "cell_type": "code",
   "execution_count": null,
   "id": "0ce4a424",
   "metadata": {},
   "outputs": [],
   "source": []
  }
 ],
 "metadata": {
  "kernelspec": {
   "display_name": "Python 3 (ipykernel)",
   "language": "python",
   "name": "python3"
  },
  "language_info": {
   "codemirror_mode": {
    "name": "ipython",
    "version": 3
   },
   "file_extension": ".py",
   "mimetype": "text/x-python",
   "name": "python",
   "nbconvert_exporter": "python",
   "pygments_lexer": "ipython3",
   "version": "3.10.12"
  }
 },
 "nbformat": 4,
 "nbformat_minor": 5
}
